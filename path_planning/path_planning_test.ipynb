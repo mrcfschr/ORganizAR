{
 "cells": [
  {
   "cell_type": "code",
   "execution_count": 1,
   "metadata": {},
   "outputs": [
    {
     "name": "stdout",
     "output_type": "stream",
     "text": [
      "Jupyter environment detected. Enabling Open3D WebVisualizer.\n",
      "[Open3D INFO] WebRTC GUI backend enabled.\n",
      "[Open3D INFO] WebRTCWindowSystem: HTTP handshake server disabled.\n"
     ]
    }
   ],
   "source": [
    "import open3d as o3d\n",
    "import torch\n",
    "import numpy as np\n",
    "\n",
    "# set seed for open3d\n",
    "o3d.utility.set_verbosity_level(o3d.utility.VerbosityLevel.Debug)\n"
   ]
  },
  {
   "cell_type": "code",
   "execution_count": 27,
   "metadata": {},
   "outputs": [
    {
     "name": "stdout",
     "output_type": "stream",
     "text": [
      "[Open3D DEBUG] Format auto File ./test_data/scene0435_00.ply\n",
      "[Open3D DEBUG] Read geometry::PointCloud: 254998 vertices.\n",
      "[Open3D DEBUG] RANSAC | Inliers: 44961, Fitness: 1.763190e-01, RMSE: 5.243008e-02, Iteration: 1000\n",
      "[Open3D DEBUG] Pointcloud down sampled from 254998 points to 44961 points.\n",
      "[Open3D DEBUG] Pointcloud down sampled from 254998 points to 210037 points.\n",
      "[Open3D DEBUG] [Visualizer] Creating window.\n",
      "[Open3D DEBUG] GLFW init.\n",
      "[Open3D DEBUG] Add geometry and update bounding box to [(0.1055, 0.0178, -0.0067) - (8.4763, 3.9560, 0.2785)]\n",
      "[Open3D DEBUG] [Visualizer] Destroying window.\n",
      "[Open3D DEBUG] GLFW destruct.\n"
     ]
    }
   ],
   "source": [
    "\n",
    "# load point cloud\n",
    "pcd = o3d.io.read_point_cloud(\"./test_data/scene0435_00.ply\")\n",
    "# o3d.visualization.draw_geometries([pcd])\n",
    "\n",
    "# Remove the ground plane\n",
    "plane_model, inliers = pcd.segment_plane(distance_threshold=0.1, ransac_n=3, num_iterations=1000)\n",
    "inlier_cloud = pcd.select_by_index(inliers)\n",
    "outlier_cloud = pcd.select_by_index(inliers, invert=True)\n",
    "o3d.visualization.draw_geometries([inlier_cloud])"
   ]
  },
  {
   "cell_type": "code",
   "execution_count": 3,
   "metadata": {},
   "outputs": [
    {
     "name": "stdout",
     "output_type": "stream",
     "text": [
      "[Open3D DEBUG] Pointcloud down sampled from 47137 points to 2553 points.\n",
      "[8.47104337 3.94713871 0.25458869] [0.1214791  0.01665794 0.01566419] [4.3212253  1.63937381 0.09661858]\n",
      "AxisAlignedBoundingBox: min: (0.121479, 0.0166579, 0.0156642), max: (8.47104, 3.94714, 0.254589)\n",
      "max-min [8.34956428 3.93048077 0.23892451]\n",
      "num points 2553\n",
      "[Open3D DEBUG] [Visualizer] Creating window.\n",
      "[Open3D DEBUG] GLFW init.\n",
      "[Open3D DEBUG] Add geometry and update bounding box to [(0.1215, 0.0167, 0.0157) - (8.4710, 3.9471, 0.2546)]\n",
      "[Open3D DEBUG] [Visualizer] Destroying window.\n",
      "[Open3D DEBUG] GLFW destruct.\n"
     ]
    }
   ],
   "source": [
    "voxel_size = 0.1\n",
    "\n",
    "# make all z values in inlier_cloud to 0\n",
    "inlier_voxel = inlier_cloud.voxel_down_sample(voxel_size=voxel_size)\n",
    "inlier_cloud_np = np.asarray(inlier_cloud.points)\n",
    "inlier_cloud_np[:, 2] = 0\n",
    "inlier_cloud.points = o3d.utility.Vector3dVector(inlier_cloud_np)\n",
    "\n",
    "print(inlier_voxel.get_max_bound(), inlier_voxel.get_min_bound(), inlier_voxel.get_center())\n",
    "print(inlier_voxel.get_axis_aligned_bounding_box())\n",
    "print(\"max-min\", inlier_voxel.get_max_bound() - inlier_voxel.get_min_bound())\n",
    "print(\"num points\", len(inlier_voxel.points))\n",
    "\n",
    "o3d.visualization.draw_geometries([inlier_voxel])\n"
   ]
  },
  {
   "cell_type": "code",
   "execution_count": 4,
   "metadata": {},
   "outputs": [],
   "source": [
    "# print(inlier_voxel.points)\n",
    "# points = np.asarray(inlier_voxel.points)\n",
    "# print(points[:60])"
   ]
  },
  {
   "cell_type": "code",
   "execution_count": 5,
   "metadata": {},
   "outputs": [
    {
     "name": "stdout",
     "output_type": "stream",
     "text": [
      "(40, 84)\n"
     ]
    }
   ],
   "source": [
    "\n",
    "max_bound = inlier_voxel.get_max_bound()\n",
    "min_bound = inlier_voxel.get_min_bound()    \n",
    "grid_width = int((max_bound[0] - min_bound[0]) / voxel_size) + 1\n",
    "grid_height = int((max_bound[1] - min_bound[1]) / voxel_size) + 1\n",
    "\n",
    "points = np.asarray(inlier_voxel.points)\n",
    "grid = np.zeros((grid_height, grid_width), dtype=np.int32)\n",
    "print(grid.shape)\n",
    "for point in points:\n",
    "    x = int((point[0] - min_bound[0]) / voxel_size)\n",
    "    y = int((point[1] - min_bound[1]) / voxel_size)\n",
    "    grid[grid_height-y-1, x] = 1\n",
    "\n",
    "# grid = grid.T"
   ]
  },
  {
   "cell_type": "code",
   "execution_count": 6,
   "metadata": {},
   "outputs": [
    {
     "data": {
      "text/plain": [
       "<matplotlib.image.AxesImage at 0x7faf7ebace80>"
      ]
     },
     "execution_count": 6,
     "metadata": {},
     "output_type": "execute_result"
    },
    {
     "data": {
      "image/png": "[encoded data removed]",
      "text/plain": [
       "<Figure size 432x288 with 1 Axes>"
      ]
     },
     "metadata": {
      "needs_background": "light"
     },
     "output_type": "display_data"
    }
   ],
   "source": [
    "\n",
    "# visualize the np array\n",
    "import matplotlib.pyplot as plt\n",
    "plt.imshow(grid>0)\n"
   ]
  },
  {
   "cell_type": "code",
   "execution_count": 7,
   "metadata": {},
   "outputs": [
    {
     "name": "stdout",
     "output_type": "stream",
     "text": [
      "[[ 0  8]\n",
      " [ 0  9]\n",
      " [ 0 10]\n",
      " ...\n",
      " [39 29]\n",
      " [39 30]\n",
      " [39 31]]\n"
     ]
    }
   ],
   "source": [
    "ones_indices = np.argwhere(grid>0)\n",
    "print(ones_indices)"
   ]
  },
  {
   "cell_type": "code",
   "execution_count": 8,
   "metadata": {},
   "outputs": [
    {
     "name": "stdout",
     "output_type": "stream",
     "text": [
      "[(2, 31), (3, 31), (4, 31), (5, 31), (6, 32), (7, 33), (8, 34), (9, 35), (10, 36), (11, 37), (12, 38), (13, 39), (14, 39), (15, 39), (16, 39), (17, 39), (18, 39), (19, 39), (20, 39), (21, 39), (22, 40), (23, 41), (24, 42), (25, 43), (26, 44), (26, 45), (27, 46), (28, 47), (29, 48), (30, 49), (31, 50), (32, 51), (33, 52), (34, 53), (34, 54), (34, 55), (34, 56), (34, 57), (34, 58), (34, 59), (34, 60), (34, 61), (34, 62), (34, 63), (34, 64), (34, 65)]\n"
     ]
    }
   ],
   "source": [
    "# randomly select a start and end point\n",
    "start_point = tuple(ones_indices[np.random.randint(0, len(ones_indices))])\n",
    "end_point = tuple(ones_indices[np.random.randint(0, len(ones_indices))])\n",
    "\n",
    "def astar(grid, start_point, end_point):\n",
    "    \"\"\"calculate the shortest path from start_point to end_point using A* algorithm\n",
    "\n",
    "    Args:\n",
    "        grid (_type_): a 2D numpy array representing the environment, 0 for obstacle, 1 for free space\n",
    "        start_point (_type_): _description_\n",
    "        end_point (_type_): _description_\n",
    "\n",
    "    Returns:\n",
    "        _type_: a list of points in the shortest path\n",
    "    \"\"\"\n",
    "    def heuristic(a, b):\n",
    "        return abs(a[0] - b[0]) + abs(a[1] - b[1])\n",
    "\n",
    "    def get_neighbors(point):\n",
    "        neighbors = []\n",
    "        for i in range(-1, 2):\n",
    "            for j in range(-1, 2):\n",
    "                if i == 0 and j == 0:\n",
    "                    continue\n",
    "                x = point[0] + i\n",
    "                y = point[1] + j\n",
    "                if x >= 0 and x < grid.shape[0] and y >= 0 and y < grid.shape[1]:\n",
    "                    neighbors.append((x, y))\n",
    "        return neighbors\n",
    "\n",
    "    def get_path(came_from, current):\n",
    "        path = []\n",
    "        while current in came_from:\n",
    "            path.append(current)\n",
    "            current = came_from[current]\n",
    "        path.append(start_point)\n",
    "        return path[::-1]\n",
    "\n",
    "    open_set = set([start_point])\n",
    "    came_from = {}\n",
    "    g_score = {start_point: 0}\n",
    "    f_score = {start_point: heuristic(start_point, end_point)}\n",
    "\n",
    "    while open_set:\n",
    "        current = min(open_set, key=lambda x: f_score[x])\n",
    "        if current == end_point:\n",
    "            return get_path(came_from, current)\n",
    "\n",
    "        open_set.remove(current)\n",
    "        for neighbor in get_neighbors(current):\n",
    "            tentative_g_score = g_score[current] + 1\n",
    "            if grid[neighbor[0], neighbor[1]] == 0:\n",
    "                continue\n",
    "            if neighbor not in g_score or tentative_g_score < g_score[neighbor]:\n",
    "                came_from[neighbor] = current\n",
    "                g_score[neighbor] = tentative_g_score\n",
    "                f_score[neighbor] = g_score[neighbor] + heuristic(neighbor, end_point)\n",
    "                if neighbor not in open_set:\n",
    "                    open_set.add(neighbor)\n",
    "\n",
    "    return None\n",
    "    \n",
    "\n",
    "\n",
    "path = astar(grid, start_point, end_point)\n",
    "print(path)"
   ]
  },
  {
   "cell_type": "code",
   "execution_count": 9,
   "metadata": {},
   "outputs": [
    {
     "name": "stdout",
     "output_type": "stream",
     "text": [
      "(40, 84)\n"
     ]
    },
    {
     "data": {
      "text/plain": [
       "<matplotlib.image.AxesImage at 0x7faf7eb44490>"
      ]
     },
     "execution_count": 9,
     "metadata": {},
     "output_type": "execute_result"
    },
    {
     "data": {
      "image/png": "[encoded data removed]",
      "text/plain": [
       "<Figure size 432x288 with 4 Axes>"
      ]
     },
     "metadata": {
      "needs_background": "light"
     },
     "output_type": "display_data"
    }
   ],
   "source": [
    "path = np.array(path)\n",
    "\n",
    "path_grid = np.zeros_like(grid)\n",
    "path_grid[path[:, 0], path[:, 1]] = 1\n",
    "print(path_grid.shape)\n",
    "\n",
    "# start point and end point\n",
    "start_grid = np.zeros_like(grid)\n",
    "start_grid[start_point[0], start_point[1]] = 100\n",
    "end_grid = np.zeros_like(grid)\n",
    "end_grid[end_point[0], end_point[1]] = 100\n",
    "\n",
    "plt.subplot(2, 2, 1)\n",
    "plt.imshow(grid>0)\n",
    "plt.subplot(2, 2, 2)\n",
    "plt.imshow(start_grid>0)\n",
    "plt.subplot(2, 2, 3)\n",
    "plt.imshow(end_grid>0)\n",
    "plt.subplot(2, 2, 4)\n",
    "plt.imshow(path_grid>0)"
   ]
  },
  {
   "cell_type": "code",
   "execution_count": 10,
   "metadata": {},
   "outputs": [
    {
     "name": "stdout",
     "output_type": "stream",
     "text": [
      "[Open3D DEBUG] [Visualizer] Creating window.\n",
      "[Open3D DEBUG] GLFW init.\n",
      "[Open3D DEBUG] Add geometry and update bounding box to [(-0.1144, -0.0424, -0.0067) - (8.5827, 4.0843, 2.3774)]\n",
      "[Open3D DEBUG] Add geometry and update bounding box to [(-0.1144, -0.0424, -0.0067) - (8.5827, 4.0843, 2.3774)]\n",
      "[Open3D DEBUG] [Visualizer] Destroying window.\n",
      "[Open3D DEBUG] GLFW destruct.\n"
     ]
    }
   ],
   "source": [
    "# convert path to world coordinates\n",
    "path_world = np.zeros((len(path), 3))\n",
    "path_world[:, 0] = path[:, 1] * voxel_size + min_bound[0]\n",
    "path_world[:, 1] = (grid_height - path[:, 0] - 1) * voxel_size + min_bound[1]\n",
    "path_world[:, 2] = 1\n",
    "\n",
    "# visualize the path in 3D\n",
    "path_pcd = o3d.geometry.PointCloud()\n",
    "path_pcd.points = o3d.utility.Vector3dVector(path_world)\n",
    "path_pcd.paint_uniform_color([0, 0, 1])\n",
    "o3d.visualization.draw_geometries([pcd, path_pcd])"
   ]
  },
  {
   "cell_type": "code",
   "execution_count": 11,
   "metadata": {},
   "outputs": [],
   "source": [
    "# torch.tensor(pcd.points).shape"
   ]
  },
  {
   "cell_type": "code",
   "execution_count": 12,
   "metadata": {},
   "outputs": [],
   "source": [
    "\n",
    "# points_np = np.asarray(pcd.points)\n",
    "# points_np.max(axis=0), points_np.min(axis=0)\n",
    "# # Remove points with z axis less than 0.1 higher than the lowest point\n",
    "# points_np = points_np[points_np[:, 2] > points_np.min(axis=0)[2] + 0.1]\n",
    "# points_np.shape"
   ]
  },
  {
   "cell_type": "code",
   "execution_count": 13,
   "metadata": {},
   "outputs": [],
   "source": [
    "# # convert points_np back to open3d point cloud and visualize\n",
    "# pcd = o3d.geometry.PointCloud()\n",
    "# pcd.points = o3d.utility.Vector3dVector(points_np)\n",
    "# o3d.visualization.draw_geometries([pcd])"
   ]
  },
  {
   "cell_type": "code",
   "execution_count": 14,
   "metadata": {},
   "outputs": [],
   "source": [
    "# # convert point cloud to voxel grid\n",
    "# voxel_grid = o3d.geometry.VoxelGrid.create_from_point_cloud(pcd, voxel_size=0.1)"
   ]
  },
  {
   "cell_type": "code",
   "execution_count": 15,
   "metadata": {},
   "outputs": [],
   "source": [
    "# # visualize voxel grid\n",
    "# o3d.visualization.draw_geometries([voxel_grid])"
   ]
  },
  {
   "cell_type": "code",
   "execution_count": 16,
   "metadata": {},
   "outputs": [],
   "source": [
    "# # number of voxels\n",
    "# voxel_grid.get_max_bound(),voxel_grid.get_min_bound(), voxel_grid.get_max_bound() - voxel_grid.get_min_bound()"
   ]
  },
  {
   "cell_type": "code",
   "execution_count": 17,
   "metadata": {},
   "outputs": [],
   "source": [
    "# # convert to voxel grid\n",
    "# # print(voxel_grid.get_min_bound() + 2)\n",
    "# voxel_grid_0 = o3d.geometry.VoxelGrid.create_from_point_cloud_within_bounds(pcd, voxel_size=0.1, min_bound=np.array([-0.11438844, -0.04241469, 1.00674985]), max_bound=np.array([8.63561156, 4.10758531, 2.44325015]))"
   ]
  },
  {
   "cell_type": "code",
   "execution_count": 18,
   "metadata": {},
   "outputs": [],
   "source": [
    "# o3d.visualization.draw_geometries([voxel_grid_0])"
   ]
  },
  {
   "cell_type": "code",
   "execution_count": 19,
   "metadata": {},
   "outputs": [],
   "source": [
    "# v0 = voxel_grid.get_voxels()[0]\n",
    "# v0.grid_index, v0.color"
   ]
  },
  {
   "cell_type": "code",
   "execution_count": 20,
   "metadata": {},
   "outputs": [],
   "source": [
    "# # convert voxel grid to a boolean numpy array\n",
    "# voxel_grid_bool = np.zeros((32, 32, 32), dtype=bool)\n",
    "# for voxel in voxel_grid.get_voxels():\n",
    "#     voxel_grid_bool[voxel.grid_index] = True\n",
    "    "
   ]
  },
  {
   "cell_type": "code",
   "execution_count": 21,
   "metadata": {},
   "outputs": [],
   "source": [
    "# # shape of voxel grid\n",
    "# len(voxel_grid.get_voxels())"
   ]
  },
  {
   "cell_type": "code",
   "execution_count": 22,
   "metadata": {},
   "outputs": [],
   "source": [
    "# # choose a voxel and visualize it\n",
    "# voxel = voxel_grid.get_voxels()[0]\n",
    "# print(voxel)"
   ]
  },
  {
   "cell_type": "code",
   "execution_count": 23,
   "metadata": {},
   "outputs": [],
   "source": [
    "# voxels = voxel_grid.get_voxels()  # returns list of voxels\n",
    "# indices = np.stack(list(vx.grid_index for vx in voxels))\n",
    "# colors = np.stack(list(vx.color for vx in voxels))\n"
   ]
  }
 ],
 "metadata": {
  "kernelspec": {
   "display_name": "cv3dst",
   "language": "python",
   "name": "python3"
  },
  "language_info": {
   "codemirror_mode": {
    "name": "ipython",
    "version": 3
   },
   "file_extension": ".py",
   "mimetype": "text/x-python",
   "name": "python",
   "nbconvert_exporter": "python",
   "pygments_lexer": "ipython3",
   "version": "3.10.12"
  }
 },
 "nbformat": 4,
 "nbformat_minor": 2
}
