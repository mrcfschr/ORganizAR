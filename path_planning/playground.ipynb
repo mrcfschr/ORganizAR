{
 "cells": [
  {
   "cell_type": "code",
   "execution_count": 1,
   "id": "initial_id",
   "metadata": {
    "collapsed": true,
    "ExecuteTime": {
     "end_time": "2024-07-14T20:18:30.568225Z",
     "start_time": "2024-07-14T20:18:29.848026Z"
    }
   },
   "outputs": [],
   "source": [
    "import torch\n"
   ]
  },
  {
   "cell_type": "code",
   "execution_count": 3,
   "outputs": [],
   "source": [
    "ld = torch.load('./data/filtered_3d_masks.pth', map_location='mps')"
   ],
   "metadata": {
    "collapsed": false,
    "ExecuteTime": {
     "end_time": "2024-07-14T20:19:25.558207Z",
     "start_time": "2024-07-14T20:19:25.524370Z"
    }
   },
   "id": "cfdbfeb8bf167b4b"
  },
  {
   "cell_type": "code",
   "execution_count": 5,
   "outputs": [
    {
     "data": {
      "text/plain": "dict_keys(['ins', 'conf', 'final_class'])"
     },
     "execution_count": 5,
     "metadata": {},
     "output_type": "execute_result"
    }
   ],
   "source": [
    "ld.keys()"
   ],
   "metadata": {
    "collapsed": false,
    "ExecuteTime": {
     "end_time": "2024-07-14T20:19:46.291584Z",
     "start_time": "2024-07-14T20:19:46.287707Z"
    }
   },
   "id": "6013e7ce1fe457c5"
  },
  {
   "cell_type": "code",
   "execution_count": 6,
   "outputs": [
    {
     "data": {
      "text/plain": "torch.Size([11, 288792])"
     },
     "execution_count": 6,
     "metadata": {},
     "output_type": "execute_result"
    }
   ],
   "source": [
    "ld['ins'].shape"
   ],
   "metadata": {
    "collapsed": false,
    "ExecuteTime": {
     "end_time": "2024-07-14T20:20:03.626704Z",
     "start_time": "2024-07-14T20:20:03.617288Z"
    }
   },
   "id": "b866bb389ce4d051"
  },
  {
   "cell_type": "code",
   "execution_count": 7,
   "outputs": [
    {
     "data": {
      "text/plain": "torch.Size([11])"
     },
     "execution_count": 7,
     "metadata": {},
     "output_type": "execute_result"
    }
   ],
   "source": [
    "ld['conf'].shape"
   ],
   "metadata": {
    "collapsed": false,
    "ExecuteTime": {
     "end_time": "2024-07-14T20:20:17.654602Z",
     "start_time": "2024-07-14T20:20:17.645334Z"
    }
   },
   "id": "1d87daa338404809"
  },
  {
   "cell_type": "code",
   "execution_count": 9,
   "outputs": [
    {
     "data": {
      "text/plain": "[tensor(0, device='mps:0'),\n tensor(5, device='mps:0'),\n tensor(5, device='mps:0'),\n tensor(1, device='mps:0'),\n tensor(2, device='mps:0'),\n tensor(5, device='mps:0'),\n tensor(5, device='mps:0'),\n tensor(6, device='mps:0'),\n tensor(4, device='mps:0'),\n tensor(6, device='mps:0'),\n tensor(5, device='mps:0')]"
     },
     "execution_count": 9,
     "metadata": {},
     "output_type": "execute_result"
    }
   ],
   "source": [
    "ld['final_class']"
   ],
   "metadata": {
    "collapsed": false,
    "ExecuteTime": {
     "end_time": "2024-07-14T20:20:45.979428Z",
     "start_time": "2024-07-14T20:20:45.968608Z"
    }
   },
   "id": "19b6d00e4a5675be"
  },
  {
   "cell_type": "code",
   "execution_count": 11,
   "outputs": [],
   "source": [
    "k = [int(i) for i in ld['final_class']]"
   ],
   "metadata": {
    "collapsed": false,
    "ExecuteTime": {
     "end_time": "2024-07-14T20:31:02.782839Z",
     "start_time": "2024-07-14T20:31:02.775678Z"
    }
   },
   "id": "8de6755d11b3e9d6"
  },
  {
   "cell_type": "code",
   "execution_count": 12,
   "outputs": [
    {
     "data": {
      "text/plain": "int"
     },
     "execution_count": 12,
     "metadata": {},
     "output_type": "execute_result"
    }
   ],
   "source": [
    "type(k[0])\n"
   ],
   "metadata": {
    "collapsed": false,
    "ExecuteTime": {
     "end_time": "2024-07-14T20:31:08.107914Z",
     "start_time": "2024-07-14T20:31:08.101315Z"
    }
   },
   "id": "a85a52bc320e0ba7"
  },
  {
   "cell_type": "code",
   "execution_count": 13,
   "outputs": [
    {
     "data": {
      "text/plain": "[0, 5, 5, 1, 2, 5, 5, 6, 4, 6, 5]"
     },
     "execution_count": 13,
     "metadata": {},
     "output_type": "execute_result"
    }
   ],
   "source": [
    "k"
   ],
   "metadata": {
    "collapsed": false,
    "ExecuteTime": {
     "end_time": "2024-07-14T20:31:15.282785Z",
     "start_time": "2024-07-14T20:31:15.273709Z"
    }
   },
   "id": "49442c62af2d98e9"
  },
  {
   "cell_type": "code",
   "execution_count": null,
   "outputs": [],
   "source": [],
   "metadata": {
    "collapsed": false
   },
   "id": "282153fe0c908c8f"
  }
 ],
 "metadata": {
  "kernelspec": {
   "display_name": "Python 3",
   "language": "python",
   "name": "python3"
  },
  "language_info": {
   "codemirror_mode": {
    "name": "ipython",
    "version": 2
   },
   "file_extension": ".py",
   "mimetype": "text/x-python",
   "name": "python",
   "nbconvert_exporter": "python",
   "pygments_lexer": "ipython2",
   "version": "2.7.6"
  }
 },
 "nbformat": 4,
 "nbformat_minor": 5
}
