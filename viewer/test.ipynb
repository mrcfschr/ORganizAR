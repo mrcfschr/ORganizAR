{
 "cells": [
  {
   "cell_type": "code",
   "execution_count": 1,
   "metadata": {},
   "outputs": [
    {
     "name": "stdout",
     "output_type": "stream",
     "text": [
      "Jupyter environment detected. Enabling Open3D WebVisualizer.\n",
      "[Open3D INFO] WebRTC GUI backend enabled.\n",
      "[Open3D INFO] WebRTCWindowSystem: HTTP handshake server disabled.\n"
     ]
    }
   ],
   "source": [
    "import open3d as o3d\n",
    "import numpy as np\n",
    "import torch"
   ]
  },
  {
   "cell_type": "code",
   "execution_count": 2,
   "metadata": {},
   "outputs": [],
   "source": [
    "# load point cloud .pcd file\n",
    "pcd = o3d.io.read_point_cloud(\"pointcloud_dataset1.pcd\")\n",
    "pcd = pcd.voxel_down_sample(voxel_size=0.03)\n",
    "# rotate point cloud with 90 degree on xz plane anticlockwise\n",
    "# rotation_matrix = np.array([[1, 0, 0], [0, 0, -1], [0, 1, 0]])\n",
    "# pcd.rotate(rotation_matrix)\n",
    "\n",
    "# # rotate point cloud with 90 degree on xy plane\n",
    "# rotation_matrix = np.array([[0, 0, 1], [0, 1, 0], [-1, 0, 0]])\n",
    "# pcd.rotate(rotation_matrix)\n",
    "\n",
    "# # rotate point cloud with 90 degree on yz plane\n",
    "# rotation_matrix = np.array([[0, 0, -1], [0, 1, 0], [1, 0, 0]])\n",
    "# pcd.rotate(rotation_matrix)\n",
    "\n",
    "# covert point cloud to numpy array\n",
    "pointcloud = np.asarray(pcd.points)"
   ]
  },
  {
   "cell_type": "code",
   "execution_count": 3,
   "metadata": {},
   "outputs": [
    {
     "name": "stdout",
     "output_type": "stream",
     "text": [
      "(149882, 3)\n",
      "[6.88969612 0.495      6.92817945] [-2.85655212 -1.71676517 -3.19460276]\n"
     ]
    }
   ],
   "source": [
    "print(pointcloud.shape)\n",
    "print(pointcloud.max(axis=0), pointcloud.min(axis=0))\n",
    "\n"
   ]
  },
  {
   "cell_type": "code",
   "execution_count": 4,
   "metadata": {},
   "outputs": [
    {
     "data": {
      "text/plain": [
       "True"
      ]
     },
     "execution_count": 4,
     "metadata": {},
     "output_type": "execute_result"
    }
   ],
   "source": [
    "# save point cloud as .ply file\n",
    "o3d.io.write_point_cloud(\"downsampled_pcd.ply\", pcd)"
   ]
  },
  {
   "cell_type": "code",
   "execution_count": 5,
   "metadata": {},
   "outputs": [],
   "source": [
    "# o3d.visualization.draw_geometries([pcd])"
   ]
  },
  {
   "cell_type": "code",
   "execution_count": 6,
   "metadata": {},
   "outputs": [
    {
     "name": "stdout",
     "output_type": "stream",
     "text": [
      "30 dict_keys(['masks', 'frame_id', 'classes', 'time_stamp_rgb', 'time_stamp_depth', 'color_pil', 'depth_image', 'color_intrinsics', 'color_extrinsics', 'depth_extrinsics'])\n"
     ]
    }
   ],
   "source": [
    "# load 2d pth file\n",
    "mask_2d = torch.load(\"dataset1seg_mask.pth\")\n",
    "print(len(mask_2d), mask_2d[0].keys())"
   ]
  },
  {
   "cell_type": "code",
   "execution_count": 7,
   "metadata": {},
   "outputs": [],
   "source": [
    "# convert to predefined key names\n",
    "for m in mask_2d:\n",
    "    m[\"segmented_frame_masks\"] = m[\"masks\"]\n",
    "    m[\"labels\"] = m[\"classes\"]\n",
    "    m[\"confidences\"] = torch.ones(len(m[\"masks\"]))\n"
   ]
  },
  {
   "cell_type": "code",
   "execution_count": 8,
   "metadata": {},
   "outputs": [
    {
     "name": "stdout",
     "output_type": "stream",
     "text": [
      "depth image min 0.0 max 4.7181206\n",
      "depth image min 0.0 max 5.0468554\n",
      "depth image min 0.0 max 4.316492\n",
      "depth image min 0.0 max 2.6326475\n",
      "depth image min 0.0 max 2.2625203\n",
      "depth image min 0.0 max 3.3409245\n",
      "depth image min 0.0 max 2.7284212\n",
      "depth image min 0.0 max 2.7282486\n",
      "depth image min 0.0 max 2.876301\n",
      "depth image min 0.0 max 3.541566\n",
      "depth image min 0.0 max 5.688516\n",
      "depth image min 0.0 max 3.206692\n",
      "depth image min 0.0 max 3.6982892\n",
      "depth image min 0.0 max 3.6303225\n",
      "depth image min 0.0 max 5.12582\n",
      "depth image min 0.0 max 5.1553955\n",
      "depth image min 0.0 max 4.6429405\n",
      "depth image min 0.0 max 3.2335734\n",
      "depth image min 0.0 max 3.3896236\n",
      "depth image min 0.0 max 3.8174052\n",
      "depth image min 0.0 max 3.141656\n",
      "depth image min 0.0 max 5.23521\n",
      "depth image min 0.0 max 6.06452\n",
      "depth image min 0.0 max 3.5826292\n",
      "depth image min 0.0 max 6.359638\n",
      "depth image min 0.0 max 2.853944\n",
      "depth image min 0.0 max 5.445619\n",
      "depth image min 0.0 max 3.5074294\n",
      "depth image min 0.0 max 3.430593\n",
      "depth image min 0.0 max 5.2353487\n"
     ]
    }
   ],
   "source": [
    "import cv2\n",
    "import PIL.Image as Image\n",
    "for m in mask_2d:\n",
    "    print(\"depth image min\", m[\"depth_image\"].min(), \"max\", m[\"depth_image\"].max())\n",
    "    # print(m[\"segmented_frame_masks\"].shape)\n",
    "    # print(m[\"labels\"])\n",
    "    # print(m[\"confidences\"])\n",
    "    # only keep 3 digits after decimal point\n",
    "    # print(np.abs(m[\"color_extrinsics\"] - m[\"depth_extrinsics\"]).round(3))\n",
    "    # print(\"max difference\", np.abs(m[\"color_extrinsics\"] - m[\"depth_extrinsics\"]).max())\n",
    "\n",
    "    # #visualize the mask in images\n",
    "    # mask = m[\"segmented_frame_masks\"]\n",
    "    # for i in range(mask.shape[0]):\n",
    "    #     mask_img = Image.fromarray(mask[i].unsqueeze(-1).numpy().astype(np.uint8)*255)\n",
    "    #     mask_img.save(\"mask_{}.png\".format(i))\n",
    "    #     cv2.imshow(\"mask\", mask[i].numpy().astype(np.uint8)*255)\n",
    "    #     cv2.waitKey(0)"
   ]
  },
  {
   "cell_type": "code",
   "execution_count": 9,
   "metadata": {},
   "outputs": [
    {
     "name": "stdout",
     "output_type": "stream",
     "text": [
      "torch.Size([1, 1, 428, 760])\n",
      "torch.bool\n",
      "labels tensor([4])\n",
      "confidences tensor([1.])\n",
      "timestamp:  4297302241\n",
      "color_pil <PIL.Image.Image image mode=RGB size=760x428 at 0x7F4FF888C130>\n",
      "color_intrinsics \n",
      " [[590.77783   0.      371.56073   0.     ]\n",
      " [  0.      591.781   200.18356   0.     ]\n",
      " [  0.        0.        1.        0.     ]\n",
      " [  0.        0.        0.        1.     ]]\n",
      "color_extrinsics [[-0.2628601  -0.0600637   0.9629613   0.5613637 ]\n",
      " [-0.41404355 -0.8944649  -0.16881312  0.67146116]\n",
      " [ 0.871476   -0.44308197  0.21025077 -1.2975038 ]\n",
      " [ 0.          0.          0.          1.        ]]\n",
      "depth image (288, 320, 1) float32 4.7181206 0.0\n",
      "depth_extrinsics [[-0.26528436 -0.05281895  0.96272236  0.5522292 ]\n",
      " [-0.6422251  -0.7350705  -0.21729831  0.99631375]\n",
      " [ 0.71914625 -0.67593026  0.16108096 -1.063417  ]\n",
      " [ 0.          0.          0.          1.        ]]\n"
     ]
    }
   ],
   "source": [
    "print(mask_2d[0][\"segmented_frame_masks\"].shape)\n",
    "print(mask_2d[0][\"segmented_frame_masks\"].dtype)\n",
    "print(\"labels\", mask_2d[0][\"labels\"])\n",
    "print(\"confidences\", mask_2d[0][\"confidences\"])\n",
    "print(\"timestamp: \", mask_2d[0][\"time_stamp_rgb\"])\n",
    "print(\"color_pil\", mask_2d[0][\"color_pil\"])\n",
    "print(\"color_intrinsics \\n\", mask_2d[0][\"color_intrinsics\"].T)  # need T\n",
    "print(\"color_extrinsics\", mask_2d[0][\"color_extrinsics\"])\n",
    "print(\n",
    "    \"depth image\",\n",
    "    mask_2d[0][\"depth_image\"].shape,\n",
    "    mask_2d[0][\"depth_image\"].dtype,\n",
    "    mask_2d[0][\"depth_image\"].max(),\n",
    "    mask_2d[0][\"depth_image\"].min(),\n",
    ") # depth in meters\n",
    "print(\"depth_extrinsics\", mask_2d[0][\"depth_extrinsics\"])"
   ]
  },
  {
   "cell_type": "code",
   "execution_count": 10,
   "metadata": {},
   "outputs": [],
   "source": [
    "from utils import project_2d_to_3d_single_frame, aggregate, filter\n"
   ]
  },
  {
   "cell_type": "code",
   "execution_count": 11,
   "metadata": {},
   "outputs": [
    {
     "name": "stdout",
     "output_type": "stream",
     "text": [
      "(4, 149882)\n"
     ]
    }
   ],
   "source": [
    "# load 3d point cloud and add 1 to the end for later transformation\n",
    "pcd_3d = pointcloud\n",
    "pcd_3d = np.concatenate([pcd_3d, torch.ones([pcd_3d.shape[0], 1])], axis=1).T\n",
    "print(pcd_3d.shape)\n",
    "\n",
    "# load cam_intr\n",
    "cam_intr = mask_2d[0][\"color_intrinsics\"].T[:3, :3]"
   ]
  },
  {
   "cell_type": "code",
   "execution_count": 12,
   "metadata": {},
   "outputs": [
    {
     "name": "stderr",
     "output_type": "stream",
     "text": [
      "  0%|          | 0/30 [00:00<?, ?it/s]"
     ]
    },
    {
     "name": "stdout",
     "output_type": "stream",
     "text": [
      "-------------------------frame 0 -------------------------\n",
      "DEBUG (149882, 2) (1, 428, 760)\n",
      "DEBUG lowest depth 1000.0 1.262976958613386\n",
      "DEBUG lowest depth tensor(1000., dtype=torch.float64) tensor(1.2630, dtype=torch.float64)\n"
     ]
    },
    {
     "name": "stderr",
     "output_type": "stream",
     "text": [
      "  3%|▎         | 1/30 [00:02<01:14,  2.56s/it]"
     ]
    },
    {
     "name": "stdout",
     "output_type": "stream",
     "text": [
      "DEBUG visibility mask 19549\n",
      "number of 3d mask points: [2330] number of 2d masks: [12744]\n",
      "-------------------------frame 1 -------------------------\n",
      "DEBUG (149882, 2) (1, 428, 760)\n",
      "DEBUG lowest depth 1000.0 1.42345184532059\n",
      "DEBUG lowest depth tensor(1000., dtype=torch.float64) tensor(1.4235, dtype=torch.float64)\n"
     ]
    },
    {
     "name": "stderr",
     "output_type": "stream",
     "text": [
      "  7%|▋         | 2/30 [00:03<00:47,  1.70s/it]"
     ]
    },
    {
     "name": "stdout",
     "output_type": "stream",
     "text": [
      "DEBUG visibility mask 19753\n",
      "number of 3d mask points: [2940] number of 2d masks: [21735]\n",
      "-------------------------frame 2 -------------------------\n",
      "DEBUG (149882, 2) (2, 428, 760)\n",
      "DEBUG lowest depth 1000.0 1.0946177721679824\n",
      "DEBUG lowest depth tensor(1000., dtype=torch.float64) tensor(1.0946, dtype=torch.float64)\n"
     ]
    },
    {
     "name": "stderr",
     "output_type": "stream",
     "text": [
      " 10%|█         | 3/30 [00:04<00:32,  1.22s/it]"
     ]
    },
    {
     "name": "stdout",
     "output_type": "stream",
     "text": [
      "DEBUG visibility mask 10295\n",
      "number of 3d mask points: [2582  385] number of 2d masks: [47091  5413]\n",
      "-------------------------frame 3 -------------------------\n",
      "DEBUG (149882, 2) (2, 428, 760)\n",
      "DEBUG lowest depth 1000.0 0.9277386029823482\n",
      "DEBUG lowest depth tensor(1000., dtype=torch.float64) tensor(0.9277, dtype=torch.float64)\n"
     ]
    },
    {
     "name": "stderr",
     "output_type": "stream",
     "text": [
      " 13%|█▎        | 4/30 [00:04<00:23,  1.09it/s]"
     ]
    },
    {
     "name": "stdout",
     "output_type": "stream",
     "text": [
      "DEBUG visibility mask 6335\n",
      "number of 3d mask points: [808 919] number of 2d masks: [41005 35825]\n",
      "-------------------------frame 4 -------------------------\n",
      "DEBUG (149882, 2) (1, 428, 760)\n",
      "DEBUG lowest depth 1000.0 0.5093591948657306\n",
      "DEBUG lowest depth tensor(1000., dtype=torch.float64) tensor(0.5094, dtype=torch.float64)\n"
     ]
    },
    {
     "name": "stderr",
     "output_type": "stream",
     "text": [
      " 17%|█▋        | 5/30 [00:05<00:18,  1.35it/s]"
     ]
    },
    {
     "name": "stdout",
     "output_type": "stream",
     "text": [
      "DEBUG visibility mask 5023\n",
      "number of 3d mask points: [596] number of 2d masks: [48719]\n",
      "-------------------------frame 5 -------------------------\n",
      "DEBUG (149882, 2) (2, 428, 760)\n",
      "DEBUG lowest depth 1000.0 0.8998428860556604\n",
      "DEBUG lowest depth tensor(1000., dtype=torch.float64) tensor(0.8998, dtype=torch.float64)\n"
     ]
    },
    {
     "name": "stderr",
     "output_type": "stream",
     "text": [
      " 20%|██        | 6/30 [00:05<00:15,  1.52it/s]"
     ]
    },
    {
     "name": "stdout",
     "output_type": "stream",
     "text": [
      "DEBUG visibility mask 7667\n",
      "number of 3d mask points: [1677 2315] number of 2d masks: [66416 89019]\n",
      "-------------------------frame 6 -------------------------\n",
      "DEBUG (149882, 2) (1, 428, 760)\n",
      "DEBUG lowest depth 1000.0 1.1301511277824243\n",
      "DEBUG lowest depth tensor(1000., dtype=torch.float64) tensor(1.1302, dtype=torch.float64)\n"
     ]
    },
    {
     "name": "stderr",
     "output_type": "stream",
     "text": [
      " 23%|██▎       | 7/30 [00:06<00:15,  1.50it/s]"
     ]
    },
    {
     "name": "stdout",
     "output_type": "stream",
     "text": [
      "DEBUG visibility mask 9397\n",
      "number of 3d mask points: [2411] number of 2d masks: [70554]\n",
      "-------------------------frame 7 -------------------------\n",
      "DEBUG (149882, 2) (2, 428, 760)\n",
      "DEBUG lowest depth 1000.0 1.204640104576594\n",
      "DEBUG lowest depth tensor(1000., dtype=torch.float64) tensor(1.2046, dtype=torch.float64)\n"
     ]
    },
    {
     "name": "stderr",
     "output_type": "stream",
     "text": [
      " 27%|██▋       | 8/30 [00:06<00:14,  1.55it/s]"
     ]
    },
    {
     "name": "stdout",
     "output_type": "stream",
     "text": [
      "DEBUG visibility mask 7778\n",
      "number of 3d mask points: [2017 1201] number of 2d masks: [72571 44043]\n",
      "-------------------------frame 8 -------------------------\n",
      "DEBUG (149882, 2) (3, 428, 760)\n",
      "DEBUG lowest depth 1000.0 1.2893854751028186\n",
      "DEBUG lowest depth tensor(1000., dtype=torch.float64) tensor(1.2894, dtype=torch.float64)\n"
     ]
    },
    {
     "name": "stderr",
     "output_type": "stream",
     "text": [
      " 30%|███       | 9/30 [00:07<00:13,  1.57it/s]"
     ]
    },
    {
     "name": "stdout",
     "output_type": "stream",
     "text": [
      "DEBUG visibility mask 9971\n",
      "number of 3d mask points: [2054 1433  804] number of 2d masks: [68081 41624 22119]\n",
      "-------------------------frame 9 -------------------------\n",
      "DEBUG (149882, 2) (4, 428, 760)\n",
      "DEBUG lowest depth 1000.0 1.4992424505583415\n",
      "DEBUG lowest depth tensor(1000., dtype=torch.float64) tensor(1.4992, dtype=torch.float64)\n"
     ]
    },
    {
     "name": "stderr",
     "output_type": "stream",
     "text": [
      " 33%|███▎      | 10/30 [00:08<00:14,  1.41it/s]"
     ]
    },
    {
     "name": "stdout",
     "output_type": "stream",
     "text": [
      "DEBUG visibility mask 16252\n",
      "number of 3d mask points: [ 548  713 2507 2000] number of 2d masks: [ 7595  9821 43531 32525]\n",
      "-------------------------frame 10 -------------------------\n",
      "DEBUG (149882, 2) (4, 428, 760)\n",
      "DEBUG lowest depth 1000.0 0.6144745116752088\n",
      "DEBUG lowest depth tensor(1000., dtype=torch.float64) tensor(0.6145, dtype=torch.float64)\n"
     ]
    },
    {
     "name": "stderr",
     "output_type": "stream",
     "text": [
      " 37%|███▋      | 11/30 [00:09<00:13,  1.37it/s]"
     ]
    },
    {
     "name": "stdout",
     "output_type": "stream",
     "text": [
      "DEBUG visibility mask 13144\n",
      "number of 3d mask points: [1887  669  595 1631] number of 2d masks: [43994  7139  6180 33592]\n",
      "-------------------------frame 11 -------------------------\n",
      "DEBUG (149882, 2) (1, 428, 760)\n",
      "DEBUG lowest depth 1000.0 0.6597500542876971\n",
      "DEBUG lowest depth tensor(1000., dtype=torch.float64) tensor(0.6598, dtype=torch.float64)\n"
     ]
    },
    {
     "name": "stderr",
     "output_type": "stream",
     "text": [
      " 40%|████      | 12/30 [00:09<00:12,  1.44it/s]"
     ]
    },
    {
     "name": "stdout",
     "output_type": "stream",
     "text": [
      "DEBUG visibility mask 8793\n",
      "number of 3d mask points: [1100] number of 2d masks: [36475]\n",
      "-------------------------frame 12 -------------------------\n",
      "DEBUG (149882, 2) (1, 428, 760)\n",
      "DEBUG lowest depth 1000.0 0.4165455212652015\n",
      "DEBUG lowest depth tensor(1000., dtype=torch.float64) tensor(0.4165, dtype=torch.float64)\n"
     ]
    },
    {
     "name": "stderr",
     "output_type": "stream",
     "text": [
      " 43%|████▎     | 13/30 [00:10<00:11,  1.54it/s]"
     ]
    },
    {
     "name": "stdout",
     "output_type": "stream",
     "text": [
      "DEBUG visibility mask 6877\n",
      "number of 3d mask points: [652] number of 2d masks: [55790]\n",
      "-------------------------frame 13 -------------------------\n",
      "DEBUG (149882, 2) (1, 428, 760)\n",
      "DEBUG lowest depth 1000.0 0.3298296676748844\n",
      "DEBUG lowest depth tensor(1000., dtype=torch.float64) tensor(0.3298, dtype=torch.float64)\n"
     ]
    },
    {
     "name": "stderr",
     "output_type": "stream",
     "text": [
      " 47%|████▋     | 14/30 [00:10<00:10,  1.58it/s]"
     ]
    },
    {
     "name": "stdout",
     "output_type": "stream",
     "text": [
      "DEBUG visibility mask 6605\n",
      "number of 3d mask points: [2282] number of 2d masks: [140160]\n",
      "-------------------------frame 14 -------------------------\n",
      "DEBUG (149882, 2) (1, 428, 760)\n",
      "DEBUG lowest depth 1000.0 1.4396137221593506\n",
      "DEBUG lowest depth tensor(1000., dtype=torch.float64) tensor(1.4396, dtype=torch.float64)\n"
     ]
    },
    {
     "name": "stderr",
     "output_type": "stream",
     "text": [
      " 50%|█████     | 15/30 [00:12<00:13,  1.08it/s]"
     ]
    },
    {
     "name": "stdout",
     "output_type": "stream",
     "text": [
      "DEBUG visibility mask 31354\n",
      "number of 3d mask points: [2504] number of 2d masks: [9861]\n",
      "-------------------------frame 15 -------------------------\n",
      "DEBUG (149882, 2) (1, 428, 760)\n",
      "DEBUG lowest depth 1000.0 0.9126941590125792\n",
      "DEBUG lowest depth tensor(1000., dtype=torch.float64) tensor(0.9127, dtype=torch.float64)\n"
     ]
    },
    {
     "name": "stderr",
     "output_type": "stream",
     "text": [
      " 53%|█████▎    | 16/30 [00:13<00:12,  1.13it/s]"
     ]
    },
    {
     "name": "stdout",
     "output_type": "stream",
     "text": [
      "DEBUG visibility mask 11999\n",
      "number of 3d mask points: [4175] number of 2d masks: [102636]\n",
      "-------------------------frame 16 -------------------------\n",
      "DEBUG (149882, 2) (2, 428, 760)\n",
      "DEBUG lowest depth 1000.0 0.7075878919529766\n",
      "DEBUG lowest depth tensor(1000., dtype=torch.float64) tensor(0.7076, dtype=torch.float64)\n"
     ]
    },
    {
     "name": "stderr",
     "output_type": "stream",
     "text": [
      " 57%|█████▋    | 17/30 [00:14<00:10,  1.23it/s]"
     ]
    },
    {
     "name": "stdout",
     "output_type": "stream",
     "text": [
      "DEBUG visibility mask 10587\n",
      "number of 3d mask points: [1534 1517] number of 2d masks: [38736 99818]\n",
      "-------------------------frame 17 -------------------------\n",
      "DEBUG (149882, 2) (3, 428, 760)\n",
      "DEBUG lowest depth 1000.0 0.959103187410502\n",
      "DEBUG lowest depth tensor(1000., dtype=torch.float64) tensor(0.9591, dtype=torch.float64)\n"
     ]
    },
    {
     "name": "stderr",
     "output_type": "stream",
     "text": [
      " 60%|██████    | 18/30 [00:14<00:09,  1.33it/s]"
     ]
    },
    {
     "name": "stdout",
     "output_type": "stream",
     "text": [
      "DEBUG visibility mask 10088\n",
      "number of 3d mask points: [ 761 1479  566] number of 2d masks: [13579 88247 38200]\n",
      "-------------------------frame 18 -------------------------\n",
      "DEBUG (149882, 2) (2, 428, 760)\n",
      "DEBUG lowest depth 1000.0 1.6996659333327964\n",
      "DEBUG lowest depth tensor(1000., dtype=torch.float64) tensor(1.6997, dtype=torch.float64)\n"
     ]
    },
    {
     "name": "stderr",
     "output_type": "stream",
     "text": [
      " 63%|██████▎   | 19/30 [00:15<00:08,  1.31it/s]"
     ]
    },
    {
     "name": "stdout",
     "output_type": "stream",
     "text": [
      "DEBUG visibility mask 13223\n",
      "number of 3d mask points: [3627 1505] number of 2d masks: [123243  28941]\n",
      "-------------------------frame 19 -------------------------\n",
      "DEBUG (149882, 2) (3, 428, 760)\n",
      "DEBUG lowest depth 1000.0 1.658069211897889\n",
      "DEBUG lowest depth tensor(1000., dtype=torch.float64) tensor(1.6581, dtype=torch.float64)\n"
     ]
    },
    {
     "name": "stderr",
     "output_type": "stream",
     "text": [
      " 67%|██████▋   | 20/30 [00:16<00:08,  1.18it/s]"
     ]
    },
    {
     "name": "stdout",
     "output_type": "stream",
     "text": [
      "DEBUG visibility mask 20530\n",
      "number of 3d mask points: [2572 1287 1197] number of 2d masks: [41294 20198 20206]\n",
      "-------------------------frame 20 -------------------------\n",
      "DEBUG (149882, 2) (2, 428, 760)\n",
      "DEBUG lowest depth 1000.0 1.7119257255169025\n",
      "DEBUG lowest depth tensor(1000., dtype=torch.float64) tensor(1.7119, dtype=torch.float64)\n"
     ]
    },
    {
     "name": "stderr",
     "output_type": "stream",
     "text": [
      " 70%|███████   | 21/30 [00:17<00:07,  1.24it/s]"
     ]
    },
    {
     "name": "stdout",
     "output_type": "stream",
     "text": [
      "DEBUG visibility mask 13102\n",
      "number of 3d mask points: [1245 1257] number of 2d masks: [31094 31314]\n",
      "-------------------------frame 21 -------------------------\n",
      "DEBUG (149882, 2) (2, 428, 760)\n",
      "DEBUG lowest depth 1000.0 1.2476352465743807\n",
      "DEBUG lowest depth tensor(1000., dtype=torch.float64) tensor(1.2476, dtype=torch.float64)\n"
     ]
    },
    {
     "name": "stderr",
     "output_type": "stream",
     "text": [
      " 73%|███████▎  | 22/30 [00:18<00:07,  1.09it/s]"
     ]
    },
    {
     "name": "stdout",
     "output_type": "stream",
     "text": [
      "DEBUG visibility mask 20161\n",
      "number of 3d mask points: [2592 2127] number of 2d masks: [58358 38186]\n",
      "-------------------------frame 22 -------------------------\n",
      "DEBUG (149882, 2) (3, 428, 760)\n",
      "DEBUG lowest depth 1000.0 1.3308035476057416\n",
      "DEBUG lowest depth tensor(1000., dtype=torch.float64) tensor(1.3308, dtype=torch.float64)\n"
     ]
    },
    {
     "name": "stderr",
     "output_type": "stream",
     "text": [
      " 77%|███████▋  | 23/30 [00:19<00:07,  1.10s/it]"
     ]
    },
    {
     "name": "stdout",
     "output_type": "stream",
     "text": [
      "DEBUG visibility mask 26158\n",
      "number of 3d mask points: [2862 1125 1677] number of 2d masks: [53410 30028 22386]\n",
      "-------------------------frame 23 -------------------------\n",
      "DEBUG (149882, 2) (1, 428, 760)\n",
      "DEBUG lowest depth 1000.0 0.9573043281368969\n",
      "DEBUG lowest depth tensor(1000., dtype=torch.float64) tensor(0.9573, dtype=torch.float64)\n"
     ]
    },
    {
     "name": "stderr",
     "output_type": "stream",
     "text": [
      " 80%|████████  | 24/30 [00:20<00:05,  1.04it/s]"
     ]
    },
    {
     "name": "stdout",
     "output_type": "stream",
     "text": [
      "DEBUG visibility mask 11188\n",
      "number of 3d mask points: [822] number of 2d masks: [28752]\n",
      "-------------------------frame 24 -------------------------\n",
      "DEBUG (149882, 2) (1, 428, 760)\n",
      "DEBUG lowest depth 1000.0 1.0141065631297885\n",
      "DEBUG lowest depth tensor(1000., dtype=torch.float64) tensor(1.0141, dtype=torch.float64)\n"
     ]
    },
    {
     "name": "stderr",
     "output_type": "stream",
     "text": [
      " 83%|████████▎ | 25/30 [00:21<00:05,  1.02s/it]"
     ]
    },
    {
     "name": "stdout",
     "output_type": "stream",
     "text": [
      "DEBUG visibility mask 25300\n",
      "number of 3d mask points: [2398] number of 2d masks: [46739]\n",
      "-------------------------frame 25 -------------------------\n",
      "DEBUG (149882, 2) (2, 428, 760)\n",
      "DEBUG lowest depth 1000.0 0.9929915841306564\n",
      "DEBUG lowest depth tensor(1000., dtype=torch.float64) tensor(0.9930, dtype=torch.float64)\n"
     ]
    },
    {
     "name": "stderr",
     "output_type": "stream",
     "text": [
      " 87%|████████▋ | 26/30 [00:22<00:03,  1.15it/s]"
     ]
    },
    {
     "name": "stdout",
     "output_type": "stream",
     "text": [
      "DEBUG visibility mask 7150\n",
      "number of 3d mask points: [2647 1585] number of 2d masks: [74833 43981]\n",
      "-------------------------frame 26 -------------------------\n",
      "DEBUG (149882, 2) (2, 428, 760)\n",
      "DEBUG lowest depth 1000.0 1.5225363333035933\n",
      "DEBUG lowest depth tensor(1000., dtype=torch.float64) tensor(1.5225, dtype=torch.float64)\n"
     ]
    },
    {
     "name": "stderr",
     "output_type": "stream",
     "text": [
      " 90%|█████████ | 27/30 [00:23<00:02,  1.04it/s]"
     ]
    },
    {
     "name": "stdout",
     "output_type": "stream",
     "text": [
      "DEBUG visibility mask 19366\n",
      "number of 3d mask points: [3019  401] number of 2d masks: [32364  8058]\n",
      "-------------------------frame 27 -------------------------\n",
      "DEBUG (149882, 2) (2, 428, 760)\n",
      "DEBUG lowest depth 1000.0 1.7463344069861249\n",
      "DEBUG lowest depth tensor(1000., dtype=torch.float64) tensor(1.7463, dtype=torch.float64)\n"
     ]
    },
    {
     "name": "stderr",
     "output_type": "stream",
     "text": [
      " 93%|█████████▎| 28/30 [00:24<00:01,  1.08it/s]"
     ]
    },
    {
     "name": "stdout",
     "output_type": "stream",
     "text": [
      "DEBUG visibility mask 14295\n",
      "number of 3d mask points: [ 395 2195] number of 2d masks: [ 7513 37371]\n",
      "-------------------------frame 28 -------------------------\n",
      "DEBUG (149882, 2) (1, 428, 760)\n",
      "DEBUG lowest depth 1000.0 1.221895720869493\n",
      "DEBUG lowest depth tensor(1000., dtype=torch.float64) tensor(1.2219, dtype=torch.float64)\n"
     ]
    },
    {
     "name": "stderr",
     "output_type": "stream",
     "text": [
      " 97%|█████████▋| 29/30 [00:24<00:00,  1.15it/s]"
     ]
    },
    {
     "name": "stdout",
     "output_type": "stream",
     "text": [
      "DEBUG visibility mask 12953\n",
      "number of 3d mask points: [2821] number of 2d masks: [49107]\n",
      "-------------------------frame 29 -------------------------\n",
      "DEBUG (149882, 2) (1, 428, 760)\n",
      "DEBUG lowest depth 1000.0 1.8443846113739037\n",
      "DEBUG lowest depth tensor(1000., dtype=torch.float64) tensor(1.8444, dtype=torch.float64)\n"
     ]
    },
    {
     "name": "stderr",
     "output_type": "stream",
     "text": [
      "100%|██████████| 30/30 [00:25<00:00,  1.16it/s]"
     ]
    },
    {
     "name": "stdout",
     "output_type": "stream",
     "text": [
      "DEBUG visibility mask 17986\n",
      "number of 3d mask points: [416] number of 2d masks: [4780]\n"
     ]
    },
    {
     "name": "stderr",
     "output_type": "stream",
     "text": [
      "\n"
     ]
    }
   ],
   "source": [
    "from tqdm import tqdm\n",
    "\n",
    "backprojected_3d_masks = {\n",
    "    \"ins\": [],  # (Ins, N)\n",
    "    \"conf\": [],  # (Ins, )\n",
    "    \"final_class\": [],  # (Ins,)\n",
    "}\n",
    "\n",
    "\"\"\" 1. Project 2d masks to 3d point cloud\"\"\"\n",
    "for i in tqdm(range(len(mask_2d))):\n",
    "    print(\"-------------------------frame\", i, \"-------------------------\")\n",
    "    \"\"\"Test data, replace with real images from bin files\"\"\"\n",
    "    # load depth image\n",
    "    depth_im = mask_2d[i][\"depth_image\"]\n",
    "    # load camera pose\n",
    "    # mask_2d[i][\"color_extrinsics\"] is world to camera pose, our function requires camera to world pose\n",
    "    cam_pose = np.linalg.inv(mask_2d[i][\"color_extrinsics\"])  #\n",
    "    depth_pose = np.linalg.inv(mask_2d[i][\"depth_extrinsics\"])\n",
    "\n",
    "    backprojected_3d_masks = project_2d_to_3d_single_frame(\n",
    "        backprojected_3d_masks,\n",
    "        cam_intr,\n",
    "        depth_im,\n",
    "        cam_pose,\n",
    "        depth_pose,\n",
    "        mask_2d[i],\n",
    "        pcd_3d,\n",
    "        760,\n",
    "        428,\n",
    "        depth_intr=np.array(\n",
    "            [\n",
    "                [174.79669, 0.0, 156.74863],\n",
    "                [0.0, 181.98889, 172.73248],\n",
    "                [\n",
    "                    0.0,\n",
    "                    0.0,\n",
    "                    1.0,\n",
    "                ],\n",
    "            ]\n",
    "        ),\n",
    "        depth_thresh=0.5,\n",
    "        depth_scale=1,\n",
    "    )\n",
    "\n",
    "# convert to tensor\n",
    "backprojected_3d_masks[\"ins\"] = torch.stack(backprojected_3d_masks[\"ins\"])  # (Ins, N)\n",
    "backprojected_3d_masks[\"conf\"] = torch.tensor(backprojected_3d_masks[\"conf\"])  # (Ins, )\n",
    "torch.save(backprojected_3d_masks, \"backprojected_3d_masks.pth\")"
   ]
  },
  {
   "cell_type": "code",
   "execution_count": 13,
   "metadata": {},
   "outputs": [],
   "source": [
    "torch.save(backprojected_3d_masks, \"backprojected_3d_masks.pth\")"
   ]
  },
  {
   "cell_type": "code",
   "execution_count": 54,
   "metadata": {},
   "outputs": [
    {
     "name": "stdout",
     "output_type": "stream",
     "text": [
      "masks_to_be_merged [[0, 1, 2, 5, 6, 7, 8, 9, 10, 11, 12, 13, 17, 18, 19, 22, 23, 25, 26, 49, 52, 53], [3], [4, 15, 16, 20, 21, 50, 51], [14], [24], [27, 28, 34, 35, 37, 38, 39, 40, 41, 42, 43, 46], [29, 32, 33, 36, 44], [30], [31], [45], [47], [48], [54]]\n"
     ]
    }
   ],
   "source": [
    "\"\"\" 2. Aggregating 3d masks\"\"\"\n",
    "# start aggregation\n",
    "aggregated_3d_masks, masked_counts = aggregate(backprojected_3d_masks)\n",
    "torch.save(aggregated_3d_masks, \"aggregated_3d_masks.pth\")"
   ]
  },
  {
   "cell_type": "code",
   "execution_count": 55,
   "metadata": {},
   "outputs": [
    {
     "name": "stdout",
     "output_type": "stream",
     "text": [
      "occurance count tensor([ 0,  1,  2,  3,  4,  5,  6,  7,  8,  9, 10, 11, 12, 13, 14, 15, 16, 17,\n",
      "        18, 19, 20, 21, 22], device='cuda:0', dtype=torch.int32)\n",
      "occurance thres value tensor(5, device='cuda:0', dtype=torch.int32)\n",
      "after filtering torch.Size([3, 149882])\n",
      "num_ins_points_after_filtering tensor([3406,  301, 2553], device='cuda:0')\n",
      "print filtered_3d_masks {'ins': tensor([[False, False, False,  ..., False, False, False],\n",
      "        [False, False, False,  ..., False, False, False],\n",
      "        [False, False, False,  ..., False, False, False]], device='cuda:0'), 'conf': tensor([1., 1., 1.]), 'final_class': [tensor(4), tensor(6), tensor(4)]}\n"
     ]
    }
   ],
   "source": [
    "\"\"\" 3. Filtering 3d masks\"\"\"\n",
    "# start filtering\n",
    "filtered_3d_masks = filter(aggregated_3d_masks, masked_counts, occurance_thres= 0.2, small_mask_thres=150, filtered_mask_thres=0.2)\n",
    "\n",
    "print(\"print filtered_3d_masks\", filtered_3d_masks)"
   ]
  },
  {
   "cell_type": "code",
   "execution_count": 56,
   "metadata": {},
   "outputs": [],
   "source": [
    "torch.save(filtered_3d_masks, \"filtered_3d_masks.pth\")"
   ]
  },
  {
   "cell_type": "code",
   "execution_count": 57,
   "metadata": {},
   "outputs": [
    {
     "data": {
      "text/plain": [
       "torch.Size([3, 149882])"
      ]
     },
     "execution_count": 57,
     "metadata": {},
     "output_type": "execute_result"
    }
   ],
   "source": [
    "filtered_3d_masks[\"ins\"].shape"
   ]
  },
  {
   "cell_type": "code",
   "execution_count": 58,
   "metadata": {},
   "outputs": [
    {
     "name": "stdout",
     "output_type": "stream",
     "text": [
      "number of points in aggregated 3d masks\n",
      " tensor([3406,  301, 2553], device='cuda:0')\n"
     ]
    }
   ],
   "source": [
    "# number of points in aggregated 3d masks\n",
    "print(\"number of points in aggregated 3d masks\\n\", aggregated_3d_masks[\"ins\"].sum(dim=1))"
   ]
  },
  {
   "cell_type": "code",
   "execution_count": 59,
   "metadata": {},
   "outputs": [
    {
     "name": "stdout",
     "output_type": "stream",
     "text": [
      "0 A table with blue cloth on it\n",
      "1 a grey shelf with a pole on it\n",
      "2 c arm, which is a medical machine with a large c shaped metal arm\n",
      "3 backpack\n",
      "4  ultra sound machine, that has flashlight shape probe attached and a machine tower\n",
      "5 wooden chair with metalic legs\n",
      "6 black computer screen\n"
     ]
    }
   ],
   "source": [
    "prompts_lookup = [\"A table with blue cloth on it\",\"a grey shelf with a pole on it\",\"c arm, which is a medical machine with a large c shaped metal arm\",\"backpack\",\" ultra sound machine, that has flashlight shape probe attached and a machine tower\",\"wooden chair with metalic legs\",\"black computer screen\"]\n",
    "\n",
    "for index, p in enumerate(prompts_lookup):\n",
    "    print(index , p)"
   ]
  }
 ],
 "metadata": {
  "kernelspec": {
   "display_name": "cv3dst",
   "language": "python",
   "name": "python3"
  },
  "language_info": {
   "codemirror_mode": {
    "name": "ipython",
    "version": 3
   },
   "file_extension": ".py",
   "mimetype": "text/x-python",
   "name": "python",
   "nbconvert_exporter": "python",
   "pygments_lexer": "ipython3",
   "version": "3.10.12"
  }
 },
 "nbformat": 4,
 "nbformat_minor": 2
}
